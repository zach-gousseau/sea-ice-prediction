{
 "cells": [
  {
   "cell_type": "markdown",
   "metadata": {
    "id": "rSkGCT8lwmj6"
   },
   "source": [
    "## Polar Sea Ice Prediction"
   ]
  },
  {
   "cell_type": "markdown",
   "metadata": {
    "id": "9qttgxO9sYLO"
   },
   "source": [
    "###Readme:\n",
    "\n",
    "For all data we have same setup: batch size [12], prediction [30], sliding window: 30 days.\n",
    "\n",
    "Training testing split: first 37 years of training, last 1 year of testing. \n",
    "\n",
    "Data: 1979-2018 (daily records)\n",
    "\n",
    "- Input Features: 11 -> \n",
    "       'Day', 'wind_10m', 'specific_humidity', 'LW_down', 'SW_down','rainfall', 'snowfall', 'sosaline', 'sst', 't2m', 'surface_pressure', 'sea_ice_extent'\n",
    "- Output Predictand: 'sea_ice_extent monthly mean'\n",
    "- 14,610 records for 39 years ~ 374 records/year \n",
    "- Look-up window: 1 month ~ 30 timesteps\n",
    "- Batch size: 12 "
   ]
  },
  {
   "cell_type": "markdown",
   "metadata": {
    "id": "jdRdTOsz9raL"
   },
   "source": [
    "## Initial Setup"
   ]
  },
  {
   "cell_type": "code",
   "execution_count": 1,
   "metadata": {
    "id": "U0pzwDXw9p0l"
   },
   "outputs": [],
   "source": [
    "import os\n",
    "import math\n",
    "import glob\n",
    "import numpy as np\n",
    "import pandas as pd\n",
    "import tensorflow as tf\n",
    "import matplotlib.pyplot as plt\n",
    "from keras.models import Sequential\n",
    "from tensorflow.keras.optimizers import Adam\n",
    "from sklearn.preprocessing import MinMaxScaler, StandardScaler\n",
    "from sklearn.metrics import mean_squared_error\n",
    "from sklearn.model_selection import train_test_split\n",
    "from keras.callbacks import EarlyStopping, ModelCheckpoint\n",
    "from attention import Attention\n",
    "from tensorflow.keras import Input\n",
    "from tensorflow.keras.layers import Dense, LSTM, Dropout, TimeDistributed\n",
    "from tensorflow.keras.models import load_model, Model"
   ]
  },
  {
   "cell_type": "markdown",
   "metadata": {
    "id": "d0W0GAu4wRJ0"
   },
   "source": [
    "## Sea Ice Prediction - LSTM"
   ]
  },
  {
   "cell_type": "markdown",
   "metadata": {
    "id": "L8VX5KkQ_FX6"
   },
   "source": [
    "## Loading Combined Data 1979-2018\n",
    "\n",
    "Features:\n",
    "'wind_10m', 'specific_humidity', 'LW_down', 'SW_down', 'rainfall', 'snowfall',  'sst', 't2m', 'surface_pressure','sea_ice_extent'\n",
    "\n",
    "\n"
   ]
  },
  {
   "cell_type": "code",
   "execution_count": 2,
   "metadata": {
    "id": "lMlcMP96tmrt"
   },
   "outputs": [],
   "source": [
    "data = np.load('../data/dailyt30_features.npy',allow_pickle=True)\n",
    "target = np.load('../data/dailyt30_target.npy',allow_pickle=True)"
   ]
  },
  {
   "cell_type": "code",
   "execution_count": 3,
   "metadata": {
    "colab": {
     "base_uri": "https://localhost:8080/"
    },
    "id": "-pIC0GiVRE5U",
    "outputId": "5c5a3e62-0dcf-4692-846d-7b104ba29ef5"
   },
   "outputs": [
    {
     "name": "stdout",
     "output_type": "stream",
     "text": [
      "(479, 30, 11)\n",
      "(479,)\n"
     ]
    }
   ],
   "source": [
    "#Adding a lag of 1 month to targets\n",
    "lag = 1\n",
    "data = data[:-lag,:,:]\n",
    "target = target[lag:]\n",
    "\n",
    "print(data.shape)\n",
    "print(target.shape)"
   ]
  },
  {
   "cell_type": "markdown",
   "metadata": {
    "id": "rnbZ9jp0zv4e"
   },
   "source": [
    "### Preprocess the data\n",
    "LSTM network expects the input data to be provided with a specific array structure in the form of: [samples, time steps, features]. "
   ]
  },
  {
   "cell_type": "markdown",
   "metadata": {
    "id": "lWyDrrpAQ74Q"
   },
   "source": [
    "## Train Test Split"
   ]
  },
  {
   "cell_type": "code",
   "execution_count": 4,
   "metadata": {
    "id": "5edkVBor8RcK"
   },
   "outputs": [
    {
     "name": "stdout",
     "output_type": "stream",
     "text": [
      "LEN_DATA=479\n",
      "NUM_TRAIN=424\n",
      "NUM_VALID=55\n"
     ]
    }
   ],
   "source": [
    "# Sequential split train:val data in 80:20 sequentially \n",
    "\n",
    "LEN_DATA = len(data) #total number of pixels\n",
    "\n",
    "NUM_TRAIN = LEN_DATA - (48+7) #last 5 years for validations\n",
    "NUM_VALID = LEN_DATA - NUM_TRAIN\n",
    "\n",
    "print(f'{LEN_DATA=}')\n",
    "print(f'{NUM_TRAIN=}')\n",
    "print(f'{NUM_VALID=}')\n",
    "\n",
    "x_train = data[:NUM_TRAIN]\n",
    "x_valid = data[NUM_TRAIN:]\n",
    "\n",
    "#split features and labels\n",
    "y_train=target[:NUM_TRAIN] #target is last column i-e sea-ice\n",
    "y_valid=target[NUM_TRAIN:] #target is last column i-e sea-ice"
   ]
  },
  {
   "cell_type": "code",
   "execution_count": 5,
   "metadata": {
    "colab": {
     "base_uri": "https://localhost:8080/"
    },
    "id": "Nw9bd9HS4vdM",
    "outputId": "8202a63d-187d-4adb-b2ae-c92df5753365"
   },
   "outputs": [
    {
     "name": "stdout",
     "output_type": "stream",
     "text": [
      "x_train.shape=(424, 30, 11)\n",
      "y_train.shape=(424,)\n",
      "x_valid.shape=(55, 30, 11)\n",
      "y_valid.shape=(55,)\n"
     ]
    }
   ],
   "source": [
    "print(f'{x_train.shape=}')\n",
    "print(f'{y_train.shape=}')\n",
    "print(f'{x_valid.shape=}')\n",
    "print(f'{y_valid.shape=}')"
   ]
  },
  {
   "cell_type": "markdown",
   "metadata": {
    "id": "8V9PlIs8OUUM"
   },
   "source": [
    "## Reshaping Input and Target Features"
   ]
  },
  {
   "cell_type": "code",
   "execution_count": 6,
   "metadata": {
    "id": "v8qmWF4VHxrR"
   },
   "outputs": [],
   "source": [
    "# convert an array of values into a dataset matrix\n",
    "def reshape_features(dataset, timesteps=1):\n",
    "    X = dataset.reshape((int(dataset.shape[0]/timesteps)), timesteps, dataset.shape[1])\n",
    "    print(f'Converted from shape {dataset.shape} to shape {X.shape}')\n",
    "    return X"
   ]
  },
  {
   "cell_type": "markdown",
   "metadata": {
    "id": "-TOp3WLtJ6xJ"
   },
   "source": [
    "## Normalization\n"
   ]
  },
  {
   "cell_type": "code",
   "execution_count": 7,
   "metadata": {
    "id": "X9nc-dTGJ8qr"
   },
   "outputs": [],
   "source": [
    "# normalize the features\n",
    "scaler_f = StandardScaler()\n",
    "x_train = scaler_f.fit_transform(x_train.reshape(-1,x_train.shape[2])) #reshaping to 2d for standard scaling\n",
    "x_valid = scaler_f.transform(x_valid.reshape(-1,x_valid.shape[2])) #reshaping to 2d for standard scaling\n",
    "\n",
    "scaler_l = StandardScaler()\n",
    "y_train = scaler_l.fit_transform(y_train.reshape(-1,1)) #reshaping to 2d for standard scaling\n",
    "y_valid = scaler_l.transform(y_valid.reshape(-1,1)) #reshaping to 2d for standard scaling"
   ]
  },
  {
   "cell_type": "code",
   "execution_count": 8,
   "metadata": {
    "colab": {
     "base_uri": "https://localhost:8080/"
    },
    "id": "4h6m4o2Oa-du",
    "outputId": "554c2286-191c-42db-f739-7f0480d169fc"
   },
   "outputs": [
    {
     "name": "stdout",
     "output_type": "stream",
     "text": [
      "Converted from shape (12720, 11) to shape (424, 30, 11)\n",
      "Converted from shape (1650, 11) to shape (55, 30, 11)\n"
     ]
    }
   ],
   "source": [
    "timesteps = 30\n",
    "x_train = reshape_features(x_train, timesteps) # reshaping to 3d for model\n",
    "x_valid = reshape_features(x_valid, timesteps) # reshaping to 3d for model\n",
    "\n",
    "# Test data appears to be missing\n",
    "# sept = reshape_features(test, timesteps) # reshaping to 3d for model"
   ]
  },
  {
   "cell_type": "code",
   "execution_count": 9,
   "metadata": {
    "colab": {
     "base_uri": "https://localhost:8080/"
    },
    "id": "3fZ8W9HUYV0f",
    "outputId": "d348a125-cdce-430b-cd08-bcc2afa0c401"
   },
   "outputs": [
    {
     "name": "stdout",
     "output_type": "stream",
     "text": [
      "x_train.shape=(424, 30, 11)\n",
      "y_train.shape=(424, 1)\n",
      "x_valid.shape=(55, 30, 11)\n",
      "y_valid.shape=(55, 1)\n"
     ]
    }
   ],
   "source": [
    "print(f'{x_train.shape=}')\n",
    "print(f'{y_train.shape=}')\n",
    "print(f'{x_valid.shape=}')\n",
    "print(f'{y_valid.shape=}')"
   ]
  },
  {
   "cell_type": "markdown",
   "metadata": {
    "id": "HRaNlUDXr7Qt"
   },
   "source": [
    "## LSTM Network"
   ]
  },
  {
   "cell_type": "code",
   "execution_count": 10,
   "metadata": {
    "colab": {
     "base_uri": "https://localhost:8080/"
    },
    "id": "psOiJCscr8wu",
    "outputId": "0623c8c7-f065-4018-9704-783cb7d96575"
   },
   "outputs": [
    {
     "name": "stdout",
     "output_type": "stream",
     "text": [
      "Model: \"dLSTM\"\n",
      "_________________________________________________________________\n",
      " Layer (type)                Output Shape              Param #   \n",
      "=================================================================\n",
      " input_1 (InputLayer)        [(None, 30, 11)]          0         \n",
      "                                                                 \n",
      " lstm (LSTM)                 (None, 30, 64)            19456     \n",
      "                                                                 \n",
      " dropout (Dropout)           (None, 30, 64)            0         \n",
      "                                                                 \n",
      " lstm_1 (LSTM)               (None, 30, 32)            12416     \n",
      "                                                                 \n",
      " lstm_2 (LSTM)               (None, 30, 16)            3136      \n",
      "                                                                 \n",
      " attention (Attention)       (None, 128)               4352      \n",
      "                                                                 \n",
      " dense (Dense)               (None, 32)                4128      \n",
      "                                                                 \n",
      " dense_1 (Dense)             (None, 16)                528       \n",
      "                                                                 \n",
      " dense_2 (Dense)             (None, 1)                 17        \n",
      "                                                                 \n",
      "=================================================================\n",
      "Total params: 44,033\n",
      "Trainable params: 44,033\n",
      "Non-trainable params: 0\n",
      "_________________________________________________________________\n",
      "None\n"
     ]
    }
   ],
   "source": [
    "timestep = timesteps\n",
    "features = 11  # Original notebook had 10, but it should be 11\n",
    "\n",
    "model_input = Input(shape=(timestep,features))\n",
    "x = LSTM(64, return_sequences=True)(model_input)\n",
    "x = Dropout(0.2)(x)\n",
    "x = LSTM(32, return_sequences=True)(x)\n",
    "#x = LSTM(32, return_sequences=False)(x)\n",
    "x = LSTM(16, return_sequences=True)(x)\n",
    "x = Attention(trainable = True)(x)\n",
    "x = Dense(32)(x)\n",
    "x = Dense(16)(x)\n",
    "x = Dense(1)(x)\n",
    "model = Model(model_input, x, name='dLSTM')\n",
    "#model.compile(loss='mae', optimizer='adam')\n",
    "print(model.summary())\n"
   ]
  },
  {
   "cell_type": "markdown",
   "metadata": {
    "id": "qrWXbk9DsTJ1"
   },
   "source": [
    "## Compiling the Network and Fitting Model"
   ]
  },
  {
   "cell_type": "code",
   "execution_count": 11,
   "metadata": {
    "id": "JAo2H2JssXjN"
   },
   "outputs": [],
   "source": [
    "#Compiling the network\n",
    "model.compile(loss='mean_squared_error', optimizer='adam')\n",
    "checkpoint_path='./testmodel.h5'\n",
    "keras_callbacks   = [\n",
    "      EarlyStopping(monitor='val_loss', patience=60, mode='min', min_delta=0.001),\n",
    "      ModelCheckpoint(checkpoint_path, monitor='val_loss', save_best_only=True, mode='min')\n",
    "]"
   ]
  },
  {
   "cell_type": "code",
   "execution_count": 12,
   "metadata": {
    "id": "vxresQUSTYgq"
   },
   "outputs": [
    {
     "name": "stderr",
     "output_type": "stream",
     "text": [
      "2022-02-20 18:40:45.250545: W tensorflow/core/platform/profile_utils/cpu_utils.cc:128] Failed to get CPU frequency: 0 Hz\n",
      "2022-02-20 18:40:46.343832: W tensorflow/core/grappler/costs/op_level_cost_estimator.cc:689] Error in PredictCost() for the op: op: \"Softmax\" attr { key: \"T\" value { type: DT_FLOAT } } inputs { dtype: DT_FLOAT shape { unknown_rank: true } } device { type: \"CPU\" model: \"0\" num_cores: 8 environment { key: \"cpu_instruction_set\" value: \"ARM NEON\" } environment { key: \"eigen\" value: \"3.4.90\" } l1_cache_size: 16384 l2_cache_size: 524288 l3_cache_size: 524288 memory_size: 268435456 } outputs { dtype: DT_FLOAT shape { unknown_rank: true } }\n",
      "2022-02-20 18:40:47.273672: W tensorflow/core/grappler/costs/op_level_cost_estimator.cc:689] Error in PredictCost() for the op: op: \"Softmax\" attr { key: \"T\" value { type: DT_FLOAT } } inputs { dtype: DT_FLOAT shape { unknown_rank: true } } device { type: \"CPU\" model: \"0\" num_cores: 8 environment { key: \"cpu_instruction_set\" value: \"ARM NEON\" } environment { key: \"eigen\" value: \"3.4.90\" } l1_cache_size: 16384 l2_cache_size: 524288 l3_cache_size: 524288 memory_size: 268435456 } outputs { dtype: DT_FLOAT shape { unknown_rank: true } }\n"
     ]
    }
   ],
   "source": [
    "history=model.fit(x_train,\n",
    "                  y_train,\n",
    "                  epochs=200,\n",
    "                  batch_size=24,\n",
    "                  verbose=0,\n",
    "                  validation_data=(x_valid,y_valid),\n",
    "                  shuffle=True,\n",
    "                  callbacks=keras_callbacks\n",
    "                 )"
   ]
  },
  {
   "cell_type": "markdown",
   "metadata": {
    "id": "-6q16qTmaZ8N"
   },
   "source": [
    "## Plotting"
   ]
  },
  {
   "cell_type": "code",
   "execution_count": 13,
   "metadata": {
    "colab": {
     "base_uri": "https://localhost:8080/",
     "height": 265
    },
    "id": "5P2TOQqU7Wry",
    "outputId": "291bfaae-d8f6-4d23-b62a-cd03b87361b4"
   },
   "outputs": [
    {
     "data": {
      "image/png": "[encoded data removed]",
      "text/plain": [
       "<Figure size 432x288 with 1 Axes>"
      ]
     },
     "metadata": {
      "needs_background": "light"
     },
     "output_type": "display_data"
    }
   ],
   "source": [
    "from matplotlib import pyplot\n",
    "\n",
    "pyplot.plot(history.history['loss'], label='train')\n",
    "pyplot.plot(history.history['val_loss'], label='test')\n",
    "pyplot.legend()\n",
    "pyplot.show()"
   ]
  },
  {
   "cell_type": "markdown",
   "metadata": {
    "id": "LvmYA01IaEdB"
   },
   "source": [
    "## Model Predictions"
   ]
  },
  {
   "cell_type": "code",
   "execution_count": 14,
   "metadata": {
    "colab": {
     "base_uri": "https://localhost:8080/"
    },
    "id": "CaHjsvNLaD5I",
    "outputId": "495efbc4-9b67-4399-e776-2a15461ad6a2"
   },
   "outputs": [
    {
     "name": "stdout",
     "output_type": "stream",
     "text": [
      "(55, 1)\n",
      "(424, 1)\n"
     ]
    },
    {
     "name": "stderr",
     "output_type": "stream",
     "text": [
      "2022-02-20 18:41:12.061896: W tensorflow/core/grappler/costs/op_level_cost_estimator.cc:689] Error in PredictCost() for the op: op: \"Softmax\" attr { key: \"T\" value { type: DT_FLOAT } } inputs { dtype: DT_FLOAT shape { unknown_rank: true } } device { type: \"CPU\" model: \"0\" num_cores: 8 environment { key: \"cpu_instruction_set\" value: \"ARM NEON\" } environment { key: \"eigen\" value: \"3.4.90\" } l1_cache_size: 16384 l2_cache_size: 524288 l3_cache_size: 524288 memory_size: 268435456 } outputs { dtype: DT_FLOAT shape { unknown_rank: true } }\n"
     ]
    }
   ],
   "source": [
    "trainPred = model.predict(x_train)\n",
    "testPred = model.predict(x_valid)\n",
    "# septPred = model.predict(sept)\n",
    "print(testPred.shape)\n",
    "print(trainPred.shape)\n",
    "# print(septPred.shape)"
   ]
  },
  {
   "cell_type": "code",
   "execution_count": 15,
   "metadata": {
    "colab": {
     "base_uri": "https://localhost:8080/"
    },
    "id": "eAQQknmh8PQA",
    "outputId": "a0e44612-076f-4eed-ae11-997ac44ffba6"
   },
   "outputs": [
    {
     "name": "stdout",
     "output_type": "stream",
     "text": [
      "(12720, 11)\n",
      "(424, 1)\n",
      "(1650, 11)\n",
      "(55, 1)\n"
     ]
    }
   ],
   "source": [
    "#Reverting data back to 2D from 3D\n",
    "x_train_t = x_train.reshape(-1, x_train.shape[2])\n",
    "#trainPred = trainPred.reshape(-1, trainPred.shape[2]))\n",
    "\n",
    "x_valid_t = x_valid.reshape(-1, x_valid.shape[2])\n",
    "#testPred = testPred.reshape((testPred.shape[0], testPred.shape[2]))\n",
    "\n",
    "print(x_train_t.shape)\n",
    "print(trainPred.shape)\n",
    "print(x_valid_t.shape)\n",
    "print(testPred.shape)"
   ]
  },
  {
   "cell_type": "code",
   "execution_count": 16,
   "metadata": {
    "id": "3VcTUMCr9rl2"
   },
   "outputs": [
    {
     "name": "stdout",
     "output_type": "stream",
     "text": [
      "[16366145.]\n",
      "[8095294.5]\n",
      "[16377690.6]\n",
      "[8144230.56666667]\n"
     ]
    }
   ],
   "source": [
    "# invert scaling for forecasted values \n",
    "\n",
    "inv_trainPred = scaler_l.inverse_transform(trainPred)\n",
    "print(inv_trainPred[1])\n",
    "\n",
    "inv_testPred = scaler_l.inverse_transform(testPred)\n",
    "print(inv_testPred[1])\n",
    "\n",
    "# invert scaling for actual values\n",
    "inv_y_train = scaler_l.inverse_transform(y_train)\n",
    "print(inv_y_train[1])\n",
    "\n",
    "inv_y_valid = scaler_l.inverse_transform(y_valid)\n",
    "print(inv_y_valid[1])\n"
   ]
  },
  {
   "cell_type": "code",
   "execution_count": 17,
   "metadata": {
    "colab": {
     "base_uri": "https://localhost:8080/"
    },
    "id": "Dd4GSNah0ICk",
    "outputId": "efddcae7-5f5a-40eb-b268-70edfce45d70"
   },
   "outputs": [
    {
     "name": "stdout",
     "output_type": "stream",
     "text": [
      "Train RMSE: 174156.006\n"
     ]
    }
   ],
   "source": [
    "# calculate Train RMSE\n",
    "from sklearn.metrics import mean_squared_error\n",
    "from math import sqrt\n",
    "\n",
    "rmse1 = sqrt(mean_squared_error(inv_y_train, inv_trainPred))\n",
    "print('Train RMSE: %.3f' % rmse1)"
   ]
  },
  {
   "cell_type": "code",
   "execution_count": 18,
   "metadata": {
    "colab": {
     "base_uri": "https://localhost:8080/"
    },
    "id": "oNZOX9p8Btxw",
    "outputId": "1aeefeb3-93d3-4730-d5db-14b96e3ac336"
   },
   "outputs": [
    {
     "name": "stdout",
     "output_type": "stream",
     "text": [
      "Test RMSE: 354826.632\n"
     ]
    }
   ],
   "source": [
    "# calculate RMSE\n",
    "from sklearn.metrics import mean_squared_error\n",
    "from math import sqrt\n",
    "\n",
    "rmse2 = sqrt(mean_squared_error(inv_y_valid, inv_testPred))\n",
    "print('Test RMSE: %.3f' % rmse2)"
   ]
  },
  {
   "cell_type": "code",
   "execution_count": 19,
   "metadata": {
    "colab": {
     "base_uri": "https://localhost:8080/"
    },
    "id": "3w5aPiUt0knl",
    "outputId": "4e498990-5e83-49b5-ab8e-51c6cb2ed4d9"
   },
   "outputs": [
    {
     "name": "stdout",
     "output_type": "stream",
     "text": [
      "Train NRMSE using mean: 0.01498761695678632\n"
     ]
    }
   ],
   "source": [
    "# calculate Normalized RMSE using std\n",
    "y_max = y_train.max()\n",
    "y_min = y_train.min()\n",
    "nrmse1 = rmse1 /(inv_y_train.mean()) \n",
    "print('Train NRMSE using mean:', nrmse1)"
   ]
  },
  {
   "cell_type": "code",
   "execution_count": 20,
   "metadata": {
    "colab": {
     "base_uri": "https://localhost:8080/"
    },
    "id": "mQqzUeXa0oYu",
    "outputId": "cb158068-0889-42d4-9aa8-8bf909f5cb04"
   },
   "outputs": [
    {
     "name": "stdout",
     "output_type": "stream",
     "text": [
      "Train NRMSE using std: 0.05506462648799496\n"
     ]
    }
   ],
   "source": [
    "# calculate Normalized RMSE using std\n",
    "y_max = y_train.max()\n",
    "y_min = y_train.min()\n",
    "nrmse2 = rmse1 /(inv_y_train.std()) \n",
    "print('Train NRMSE using std:', nrmse2)"
   ]
  },
  {
   "cell_type": "code",
   "execution_count": 21,
   "metadata": {
    "colab": {
     "base_uri": "https://localhost:8080/"
    },
    "id": "23_bcO2qIpdn",
    "outputId": "a465dc0d-97c2-41b4-fdb3-a1e4d4415699"
   },
   "outputs": [
    {
     "name": "stdout",
     "output_type": "stream",
     "text": [
      "Test NRMSE using mean: 0.03491913515282738\n"
     ]
    }
   ],
   "source": [
    "# calculate Normalized RMSE using mean\n",
    "y_max = y_valid.max()\n",
    "y_min = y_valid.min()\n",
    "nrmse3 = rmse2 /(inv_y_valid.mean()) \n",
    "print('Test NRMSE using mean:', nrmse3)"
   ]
  },
  {
   "cell_type": "code",
   "execution_count": 22,
   "metadata": {
    "colab": {
     "base_uri": "https://localhost:8080/"
    },
    "id": "D4-du6k80eQJ",
    "outputId": "6d505efa-10b4-4380-f43c-5acca6a95dd7"
   },
   "outputs": [
    {
     "name": "stdout",
     "output_type": "stream",
     "text": [
      "Test NRMSE using std: 0.10771536583315681\n"
     ]
    }
   ],
   "source": [
    "# calculate Normalized RMSE using std\n",
    "y_max = y_valid.max()\n",
    "y_min = y_valid.min()\n",
    "nrmse4 = rmse2 /(inv_y_valid.std()) \n",
    "print('Test NRMSE using std:', nrmse4)"
   ]
  },
  {
   "cell_type": "code",
   "execution_count": 23,
   "metadata": {
    "colab": {
     "base_uri": "https://localhost:8080/"
    },
    "id": "XxRVfXyjeHMz",
    "outputId": "63fde3b7-2bb8-41e8-f69c-aa42cbdfd748"
   },
   "outputs": [
    {
     "name": "stdout",
     "output_type": "stream",
     "text": [
      "Test R_Square: 0.988\n"
     ]
    }
   ],
   "source": [
    "# calculate R-square\n",
    "from sklearn.metrics import r2_score\n",
    "from math import sqrt\n",
    "\n",
    "r_sq = r2_score(inv_y_valid, inv_testPred)\n",
    "print('Test R_Square: %.3f' % r_sq)"
   ]
  },
  {
   "cell_type": "code",
   "execution_count": 24,
   "metadata": {
    "colab": {
     "base_uri": "https://localhost:8080/",
     "height": 364
    },
    "id": "e7NOnGZXOvRj",
    "outputId": "719077e5-460b-4032-fd84-5dce4788774d"
   },
   "outputs": [
    {
     "data": {
      "text/plain": [
       "<BarContainer object of 55 artists>"
      ]
     },
     "execution_count": 24,
     "metadata": {},
     "output_type": "execute_result"
    },
    {
     "data": {
      "image/png": "[encoded data removed]",
      "text/plain": [
       "<Figure size 1080x216 with 1 Axes>"
      ]
     },
     "metadata": {
      "needs_background": "light"
     },
     "output_type": "display_data"
    }
   ],
   "source": [
    "#1 year's plot\n",
    "import numpy as np\n",
    "import matplotlib.pyplot as plt\n",
    "X = np.arange(len(testPred))\n",
    "fig = plt.figure(figsize=(15, 3))\n",
    "ax = fig.add_axes([0,0,1,1])\n",
    "ax.bar(X + 0.00, inv_y_valid.flatten(), color = 'b', width = 0.5)\n",
    "ax.bar(X + 0.5, inv_testPred.flatten(), color = 'g', width = 0.5)"
   ]
  },
  {
   "cell_type": "code",
   "execution_count": 25,
   "metadata": {
    "colab": {
     "base_uri": "https://localhost:8080/",
     "height": 279
    },
    "id": "mdq_2QDSal-d",
    "outputId": "56aa0a3a-4a68-4065-bb2e-0ae379d61e17"
   },
   "outputs": [
    {
     "data": {
      "image/png": "[encoded data removed]",
      "text/plain": [
       "<Figure size 432x288 with 1 Axes>"
      ]
     },
     "metadata": {
      "needs_background": "light"
     },
     "output_type": "display_data"
    }
   ],
   "source": [
    "fig, ax = plt.subplots()\n",
    "ax.scatter(y_train,trainPred)\n",
    "ax.plot([y_train.min(), y_train.max()], [y_train.min(), y_train.max()], 'k--', lw=4)\n",
    "ax.set_xlabel('observed')\n",
    "ax.set_ylabel('predicted')\n",
    "plt.show()"
   ]
  },
  {
   "cell_type": "code",
   "execution_count": 26,
   "metadata": {
    "colab": {
     "base_uri": "https://localhost:8080/",
     "height": 279
    },
    "id": "gixcJfYHgvyP",
    "outputId": "f7251d8b-216a-45d8-e508-100a0c0a1092"
   },
   "outputs": [
    {
     "data": {
      "image/png": "[encoded data removed]",
      "text/plain": [
       "<Figure size 432x288 with 1 Axes>"
      ]
     },
     "metadata": {
      "needs_background": "light"
     },
     "output_type": "display_data"
    }
   ],
   "source": [
    "fig, ax = plt.subplots()\n",
    "ax.scatter(y_valid,testPred) #[:,:,6]\n",
    "ax.plot([y_valid.min(), y_valid.max()], [y_valid.min(), y_valid.max()], 'k--', lw=4)\n",
    "ax.set_xlabel('observed')\n",
    "ax.set_ylabel('predicted')\n",
    "#plt.savefig('test_prediction.png',bbox_inches='tight',dpi=1200)\n",
    "plt.show()"
   ]
  },
  {
   "cell_type": "code",
   "execution_count": 27,
   "metadata": {
    "colab": {
     "base_uri": "https://localhost:8080/",
     "height": 458
    },
    "id": "BSnL1kvcg78p",
    "outputId": "a8fff177-4b0a-4f76-9ee9-0787e4afa355"
   },
   "outputs": [
    {
     "data": {
      "image/png": "[encoded data removed]",
      "text/plain": [
       "<Figure size 1728x576 with 1 Axes>"
      ]
     },
     "metadata": {
      "needs_background": "light"
     },
     "output_type": "display_data"
    }
   ],
   "source": [
    "from matplotlib import pyplot\n",
    "fig, ax= plt.subplots(figsize=(24, 8))\n",
    "\n",
    "pyplot.plot(inv_testPred, label='predictions')\n",
    "pyplot.plot(inv_y_valid, label='observation')\n",
    "pyplot.show()"
   ]
  }
 ],
 "metadata": {
  "accelerator": "GPU",
  "colab": {
   "collapsed_sections": [],
   "name": "Polar_Sea_Ice_Prediction_T30.ipynb",
   "provenance": []
  },
  "kernelspec": {
   "display_name": "Python 3 (ipykernel)",
   "language": "python",
   "name": "python3"
  },
  "language_info": {
   "codemirror_mode": {
    "name": "ipython",
    "version": 3
   },
   "file_extension": ".py",
   "mimetype": "text/x-python",
   "name": "python",
   "nbconvert_exporter": "python",
   "pygments_lexer": "ipython3",
   "version": "3.9.7"
  }
 },
 "nbformat": 4,
 "nbformat_minor": 4
}
