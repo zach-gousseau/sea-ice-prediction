{
  "nbformat": 4,
  "nbformat_minor": 0,
  "metadata": {
    "colab": {
      "name": "Polar_Sea_Ice_Prediction_EALSTM.ipynb",
      "provenance": [],
      "collapsed_sections": []
    },
    "kernelspec": {
      "name": "python3",
      "display_name": "Python 3"
    },
    "accelerator": "GPU"
  },
  "cells": [
    {
      "cell_type": "markdown",
      "metadata": {
        "id": "rSkGCT8lwmj6"
      },
      "source": [
        "## Polar Sea Ice Prediction\n",
        "Code for Ensemble LSTM model"
      ]
    },
    {
      "cell_type": "markdown",
      "metadata": {
        "id": "FTPWxOK4-8TN"
      },
      "source": [
        "## Initial Setup"
      ]
    },
    {
      "cell_type": "code",
      "metadata": {
        "id": "NPUFIDrBr2nY"
      },
      "source": [
        "pip install attention"
      ],
      "execution_count": null,
      "outputs": []
    },
    {
      "cell_type": "code",
      "metadata": {
        "id": "JV-0_sSz-4X3"
      },
      "source": [
        "import os\n",
        "import math\n",
        "import glob\n",
        "import numpy as np\n",
        "import pandas as pd\n",
        "import matplotlib.pyplot as plt\n",
        "from tensorflow.keras.models import Sequential\n",
        "from tensorflow.keras.optimizers import Adam\n",
        "from tensorflow.keras.layers import Dense, Dropout\n",
        "from tensorflow.keras.layers import LSTM,TimeDistributed\n",
        "from sklearn.preprocessing import MinMaxScaler, StandardScaler\n",
        "from sklearn.metrics import mean_squared_error\n",
        "from sklearn.model_selection import train_test_split\n",
        "from tensorflow.keras.callbacks import EarlyStopping, ModelCheckpoint\n",
        "\n",
        "#from attention import Attention"
      ],
      "execution_count": null,
      "outputs": []
    },
    {
      "cell_type": "code",
      "metadata": {
        "id": "4W3jMjPB_BcK"
      },
      "source": [
        "daily_data = np.load('/.../dailyt30_features.npy',allow_pickle=True)\n",
        "monthly_data = np.load('/.../monthly_features.npy',allow_pickle=True)\n",
        "daily_target = np.load('/.../dailyt30_target.npy',allow_pickle=True)\n",
        "monthly_target = np.load('/.../monthly_target.npy',allow_pickle=True)"
      ],
      "execution_count": null,
      "outputs": []
    },
    {
      "cell_type": "code",
      "source": [
        "print(daily_data.shape)\n",
        "print(monthly_data.shape)\n",
        "print(monthly_target.shape)"
      ],
      "metadata": {
        "colab": {
          "base_uri": "https://localhost:8080/"
        },
        "id": "WHFVsLDMiyad",
        "outputId": "c4a63e42-32b4-4e28-a96f-492e6cd4cead"
      },
      "execution_count": null,
      "outputs": [
        {
          "output_type": "stream",
          "name": "stdout",
          "text": [
            "(511, 30, 10)\n",
            "(511, 1, 10)\n",
            "(511,)\n"
          ]
        }
      ]
    },
    {
      "cell_type": "code",
      "source": [
        "#Removing data after 2020 for SIO Review Paper submission\n",
        "daily_data = daily_data[:-7,:,:]\n",
        "monthly_data = monthly_data[:-7,:,:]\n",
        "monthly_target = monthly_target[:-7]"
      ],
      "metadata": {
        "id": "6fKBLsRihdtW"
      },
      "execution_count": null,
      "outputs": []
    },
    {
      "cell_type": "code",
      "metadata": {
        "colab": {
          "base_uri": "https://localhost:8080/"
        },
        "id": "i5g7_hKwADvD",
        "outputId": "ad51ac0d-5b83-4558-8e87-c314b43843a9"
      },
      "source": [
        "print(daily_data.shape)\n",
        "print(monthly_data.shape)\n",
        "print(monthly_target.shape)"
      ],
      "execution_count": null,
      "outputs": [
        {
          "output_type": "stream",
          "name": "stdout",
          "text": [
            "(504, 30, 10)\n",
            "(504, 1, 10)\n",
            "(504,)\n"
          ]
        }
      ]
    },
    {
      "cell_type": "code",
      "metadata": {
        "colab": {
          "base_uri": "https://localhost:8080/"
        },
        "id": "lz8HXwWmYwkc",
        "outputId": "63a34d58-db37-4527-d591-77db14a2bf50"
      },
      "source": [
        "#Concatenate datasets\n",
        "data = np.concatenate((daily_data, monthly_data), axis = 1)\n",
        "\n",
        "print(data.shape)"
      ],
      "execution_count": null,
      "outputs": [
        {
          "output_type": "stream",
          "name": "stdout",
          "text": [
            "(2, 31, 10)\n",
            "(504, 31, 10)\n"
          ]
        }
      ]
    },
    {
      "cell_type": "code",
      "metadata": {
        "colab": {
          "base_uri": "https://localhost:8080/"
        },
        "id": "-Dk0huLdm65o",
        "outputId": "727cd3fc-5c37-4980-d9af-c9185c8df3ee"
      },
      "source": [
        "#Adding a lag to monthly targets\n",
        "lag = 1\n",
        "data = data[:-lag,:,:]\n",
        "monthly_target = monthly_target[lag:]\n",
        "\n",
        "print(data.shape)\n",
        "print(monthly_target.shape)"
      ],
      "execution_count": null,
      "outputs": [
        {
          "output_type": "stream",
          "name": "stdout",
          "text": [
            "(503, 31, 10)\n",
            "(503,)\n"
          ]
        }
      ]
    },
    {
      "cell_type": "markdown",
      "metadata": {
        "id": "lWyDrrpAQ74Q"
      },
      "source": [
        "## Train Validation Features Split"
      ]
    },
    {
      "cell_type": "code",
      "metadata": {
        "id": "5edkVBor8RcK"
      },
      "source": [
        "# Sequential split train:val data in 80:20 sequentially \n",
        "\n",
        "LEN_DATA = len(data) #total number of pixels\n",
        "\n",
        "#NUM_TRAIN = LEN_DATA - (24+6) #reserve last 30 months for testing \n",
        "NUM_TRAIN = LEN_DATA - (12*20) #reserve last 20 years for testing \n",
        "NUM_VALID = LEN_DATA - NUM_TRAIN\n",
        "\n",
        "print('LEN_DATA:',LEN_DATA)\n",
        "print('NUM_TRAIN:',NUM_TRAIN)\n",
        "print('NUM_VALID:',NUM_VALID)\n",
        "\n",
        "x_train = data[0:NUM_TRAIN]\n",
        "x_valid = data[NUM_TRAIN:]\n",
        "\n",
        "#split features and labels\n",
        "y_train=monthly_target[:NUM_TRAIN] #target is last column i-e sea-ice\n",
        "y_valid=monthly_target[NUM_TRAIN:] #target is last column i-e sea-ice"
      ],
      "execution_count": null,
      "outputs": []
    },
    {
      "cell_type": "code",
      "metadata": {
        "id": "Nw9bd9HS4vdM"
      },
      "source": [
        "print('x_train.shape:',x_train.shape)\n",
        "print('y_train.shape:',y_train.shape)\n",
        "print('x_valid.shape:',x_valid.shape)\n",
        "print('y_valid.shape:',y_valid.shape)"
      ],
      "execution_count": null,
      "outputs": []
    },
    {
      "cell_type": "markdown",
      "metadata": {
        "id": "-TOp3WLtJ6xJ"
      },
      "source": [
        "## Normalization\n"
      ]
    },
    {
      "cell_type": "code",
      "metadata": {
        "id": "X9nc-dTGJ8qr"
      },
      "source": [
        "# normalize the features\n",
        "\n",
        "scaler_f = StandardScaler()\n",
        "x_train = scaler_f.fit_transform(x_train.reshape(-1,x_train.shape[2])) #reshaping to 2d for standard scaling\n",
        "x_valid = scaler_f.transform(x_valid.reshape(-1,x_valid.shape[2])) #reshaping to 2d for standard scaling\n",
        "\n",
        "scaler_l = StandardScaler()\n",
        "y_train = scaler_l.fit_transform(y_train.reshape(-1,1)) #reshaping to 2d for standard scaling\n",
        "y_valid = scaler_l.transform(y_valid.reshape(-1,1)) #reshaping to 2d for standard scaling\n",
        "\n"
      ],
      "execution_count": null,
      "outputs": []
    },
    {
      "cell_type": "code",
      "metadata": {
        "id": "4Mdm52jfEx0X"
      },
      "source": [
        "#All data will be in 2D after Standard Scaling\n",
        "print('x_train.shape:',x_train.shape)\n",
        "print('y_train.shape:',y_train.shape)\n",
        "print('x_valid.shape:',x_valid.shape)\n",
        "print('y_valid.shape:',y_valid.shape)"
      ],
      "execution_count": null,
      "outputs": []
    },
    {
      "cell_type": "code",
      "metadata": {
        "id": "KfueKrNZFDpH"
      },
      "source": [
        "# convert an array of values into a 3D dataset matrix\n",
        "def reshape_features(dataset, timesteps=1):\n",
        "    print(dataset.shape)\n",
        "    X = dataset.reshape((int(dataset.shape[0]/timesteps)), timesteps, dataset.shape[1])\n",
        "    return X"
      ],
      "execution_count": null,
      "outputs": []
    },
    {
      "cell_type": "code",
      "metadata": {
        "id": "4h6m4o2Oa-du",
        "colab": {
          "base_uri": "https://localhost:8080/"
        },
        "outputId": "f240cf7e-f6c3-4d66-9d58-cf65d1ecfadd"
      },
      "source": [
        "#Reshaping data to 3D for modeling\n",
        "timesteps = 31\n",
        "x_train = reshape_features(x_train, timesteps) # reshaping to 3d for model\n",
        "x_valid = reshape_features(x_valid, timesteps) # reshaping to 3d for model"
      ],
      "execution_count": null,
      "outputs": [
        {
          "output_type": "stream",
          "name": "stdout",
          "text": [
            "(8153, 10)\n",
            "(7440, 10)\n",
            "(62, 10)\n"
          ]
        }
      ]
    },
    {
      "cell_type": "code",
      "metadata": {
        "id": "3fZ8W9HUYV0f"
      },
      "source": [
        "print('x_train.shape:',x_train.shape)\n",
        "print('y_train.shape:',y_train.shape)\n",
        "print('x_valid.shape:',x_valid.shape)\n",
        "print('y_valid.shape:',y_valid.shape)"
      ],
      "execution_count": null,
      "outputs": []
    },
    {
      "cell_type": "markdown",
      "metadata": {
        "id": "HRaNlUDXr7Qt"
      },
      "source": [
        "## LSTM Network"
      ]
    },
    {
      "cell_type": "code",
      "metadata": {
        "id": "os6HpsBNcHw9"
      },
      "source": [
        "from tensorflow.keras.models import Model\n",
        "from tensorflow.keras import Input\n",
        "from tensorflow.keras.layers import concatenate, Permute, Reshape\n",
        "from tensorflow.keras.layers import Dense, Lambda, Dot, Activation, Concatenate, Flatten\n",
        "from tensorflow.keras.layers import Layer"
      ],
      "execution_count": null,
      "outputs": []
    },
    {
      "cell_type": "code",
      "metadata": {
        "id": "M7bzSt8yfNWq"
      },
      "source": [
        "# Customized implementation of Attention layer to accomodate multiple calls to attention\n",
        "class Attention(Layer):\n",
        "\n",
        "    def __init__(self, units=128, **kwargs):\n",
        "        self.units = units\n",
        "        super().__init__(**kwargs)\n",
        "\n",
        "    def __call__(self, inputs):\n",
        "        \"\"\"\n",
        "        Many-to-one attention mechanism for Keras.\n",
        "        @param inputs: 3D tensor with shape (batch_size, time_steps, input_dim).\n",
        "        @return: 2D tensor with shape (batch_size, 128)\n",
        "        @author: felixhao28, philipperemy.\n",
        "        \"\"\"\n",
        "        hidden_states = inputs\n",
        "        hidden_size = int(hidden_states.shape[2])\n",
        "        # Inside dense layer\n",
        "        #              hidden_states            dot               W            =>           score_first_part\n",
        "        # (batch_size, time_steps, hidden_size) dot (hidden_size, hidden_size) => (batch_size, time_steps, hidden_size)\n",
        "        # W is the trainable weight matrix of attention Luong's multiplicative style score\n",
        "        score_first_part = Dense(hidden_size, use_bias=False)(hidden_states)\n",
        "        #            score_first_part           dot        last_hidden_state     => attention_weights\n",
        "        # (batch_size, time_steps, hidden_size) dot   (batch_size, hidden_size)  => (batch_size, time_steps)\n",
        "        h_t = Lambda(lambda x: x[:, -1, :], output_shape=(hidden_size,))(hidden_states)\n",
        "        score = Dot(axes=[1, 2])([h_t, score_first_part])\n",
        "        attention_weights = Activation('softmax')(score)\n",
        "        # (batch_size, time_steps, hidden_size) dot (batch_size, time_steps) => (batch_size, hidden_size)\n",
        "        context_vector = Dot(axes=[1, 1])([hidden_states, attention_weights])\n",
        "        pre_activation = Concatenate()([context_vector, h_t])\n",
        "        attention_vector = Dense(self.units, use_bias=False, activation='tanh')(pre_activation)\n",
        "        return attention_vector\n",
        "\n",
        "    def get_config(self):\n",
        "        return {'units': self.units}\n",
        "\n",
        "    @classmethod\n",
        "    def from_config(cls, config):\n",
        "        return cls(**config)"
      ],
      "execution_count": null,
      "outputs": []
    },
    {
      "cell_type": "code",
      "metadata": {
        "id": "9_f7Qd0LSYib",
        "colab": {
          "base_uri": "https://localhost:8080/"
        },
        "outputId": "79081fd2-d41f-484e-81e2-4f5c449966e2"
      },
      "source": [
        "model1_input= Input(shape=(30,10)) #replace (30,10) with (30,11) for 11 features \n",
        "model2_input= Input(shape=(1,10)) #replace (1,10) with (1,11) for 11 features\n",
        "\n",
        "model1 = Permute((2,1), input_shape=(30,11))(model1_input)\n",
        "model1 = LSTM(64, return_sequences=True)(model1)\n",
        "model1 = Dropout(0.2)(model1)\n",
        "model1 = LSTM(32, return_sequences=True)(model1)\n",
        "model1 = Attention()(model1)\n",
        "model1 = Dense(1)(model1)\n",
        "\n",
        "model2 = Permute((2,1), input_shape=(1,11))(model2_input)\n",
        "model2 = LSTM(64, return_sequences=True)(model2)\n",
        "model2 = Dropout(0.2)(model2)\n",
        "model2 = LSTM(32, return_sequences=True)(model2)\n",
        "model2 = Attention()(model2)\n",
        "model2 = Dense(1)(model2)\n",
        "\n",
        "ensemble = concatenate([model1, model2])\n",
        "merged_model = Dense(1)(ensemble)\n",
        "model = Model(inputs=[model1_input,model2_input], outputs=merged_model)\n",
        "model.summary()\n"
      ],
      "execution_count": null,
      "outputs": [
        {
          "output_type": "stream",
          "name": "stdout",
          "text": [
            "Model: \"model_1\"\n",
            "__________________________________________________________________________________________________\n",
            " Layer (type)                   Output Shape         Param #     Connected to                     \n",
            "==================================================================================================\n",
            " input_3 (InputLayer)           [(None, 30, 10)]     0           []                               \n",
            "                                                                                                  \n",
            " input_4 (InputLayer)           [(None, 1, 10)]      0           []                               \n",
            "                                                                                                  \n",
            " permute_2 (Permute)            (None, 10, 30)       0           ['input_3[0][0]']                \n",
            "                                                                                                  \n",
            " permute_3 (Permute)            (None, 10, 1)        0           ['input_4[0][0]']                \n",
            "                                                                                                  \n",
            " lstm_4 (LSTM)                  (None, 10, 64)       24320       ['permute_2[0][0]']              \n",
            "                                                                                                  \n",
            " lstm_6 (LSTM)                  (None, 10, 64)       16896       ['permute_3[0][0]']              \n",
            "                                                                                                  \n",
            " dropout_2 (Dropout)            (None, 10, 64)       0           ['lstm_4[0][0]']                 \n",
            "                                                                                                  \n",
            " dropout_3 (Dropout)            (None, 10, 64)       0           ['lstm_6[0][0]']                 \n",
            "                                                                                                  \n",
            " lstm_5 (LSTM)                  (None, 10, 32)       12416       ['dropout_2[0][0]']              \n",
            "                                                                                                  \n",
            " lstm_7 (LSTM)                  (None, 10, 32)       12416       ['dropout_3[0][0]']              \n",
            "                                                                                                  \n",
            " lambda_2 (Lambda)              (None, 32)           0           ['lstm_5[0][0]']                 \n",
            "                                                                                                  \n",
            " dense_7 (Dense)                (None, 10, 32)       1024        ['lstm_5[0][0]']                 \n",
            "                                                                                                  \n",
            " lambda_3 (Lambda)              (None, 32)           0           ['lstm_7[0][0]']                 \n",
            "                                                                                                  \n",
            " dense_10 (Dense)               (None, 10, 32)       1024        ['lstm_7[0][0]']                 \n",
            "                                                                                                  \n",
            " dot_4 (Dot)                    (None, 10)           0           ['lambda_2[0][0]',               \n",
            "                                                                  'dense_7[0][0]']                \n",
            "                                                                                                  \n",
            " dot_6 (Dot)                    (None, 10)           0           ['lambda_3[0][0]',               \n",
            "                                                                  'dense_10[0][0]']               \n",
            "                                                                                                  \n",
            " activation_2 (Activation)      (None, 10)           0           ['dot_4[0][0]']                  \n",
            "                                                                                                  \n",
            " activation_3 (Activation)      (None, 10)           0           ['dot_6[0][0]']                  \n",
            "                                                                                                  \n",
            " dot_5 (Dot)                    (None, 32)           0           ['lstm_5[0][0]',                 \n",
            "                                                                  'activation_2[0][0]']           \n",
            "                                                                                                  \n",
            " dot_7 (Dot)                    (None, 32)           0           ['lstm_7[0][0]',                 \n",
            "                                                                  'activation_3[0][0]']           \n",
            "                                                                                                  \n",
            " concatenate_3 (Concatenate)    (None, 64)           0           ['dot_5[0][0]',                  \n",
            "                                                                  'lambda_2[0][0]']               \n",
            "                                                                                                  \n",
            " concatenate_4 (Concatenate)    (None, 64)           0           ['dot_7[0][0]',                  \n",
            "                                                                  'lambda_3[0][0]']               \n",
            "                                                                                                  \n",
            " dense_8 (Dense)                (None, 128)          8192        ['concatenate_3[0][0]']          \n",
            "                                                                                                  \n",
            " dense_11 (Dense)               (None, 128)          8192        ['concatenate_4[0][0]']          \n",
            "                                                                                                  \n",
            " dense_9 (Dense)                (None, 1)            129         ['dense_8[0][0]']                \n",
            "                                                                                                  \n",
            " dense_12 (Dense)               (None, 1)            129         ['dense_11[0][0]']               \n",
            "                                                                                                  \n",
            " concatenate_5 (Concatenate)    (None, 2)            0           ['dense_9[0][0]',                \n",
            "                                                                  'dense_12[0][0]']               \n",
            "                                                                                                  \n",
            " dense_13 (Dense)               (None, 1)            3           ['concatenate_5[0][0]']          \n",
            "                                                                                                  \n",
            "==================================================================================================\n",
            "Total params: 84,741\n",
            "Trainable params: 84,741\n",
            "Non-trainable params: 0\n",
            "__________________________________________________________________________________________________\n"
          ]
        }
      ]
    },
    {
      "cell_type": "markdown",
      "metadata": {
        "id": "qrWXbk9DsTJ1"
      },
      "source": [
        "## Compiling the Network and Fitting Model"
      ]
    },
    {
      "cell_type": "code",
      "metadata": {
        "id": "JAo2H2JssXjN"
      },
      "source": [
        "#Compiling the network\n",
        "model.compile(loss='mean_squared_error', optimizer='adam')\n",
        "checkpoint_path='./testmodel.h5'\n",
        "keras_callbacks   = [\n",
        "      EarlyStopping(monitor='val_loss', patience=60, mode='min', min_delta=0.001),\n",
        "      ModelCheckpoint(checkpoint_path, monitor='val_loss', save_best_only=True, mode='min')\n",
        "]\n"
      ],
      "execution_count": null,
      "outputs": []
    },
    {
      "cell_type": "code",
      "metadata": {
        "id": "vxresQUSTYgq"
      },
      "source": [
        "history=model.fit([x_train[:,:30,:],x_train[:,30:31,:]], y_train, epochs=500, batch_size=64, verbose=2, validation_split=0.3, shuffle=True,callbacks=keras_callbacks)\n"
      ],
      "execution_count": null,
      "outputs": []
    },
    {
      "cell_type": "markdown",
      "metadata": {
        "id": "-6q16qTmaZ8N"
      },
      "source": [
        "## Plotting"
      ]
    },
    {
      "cell_type": "code",
      "metadata": {
        "id": "5P2TOQqU7Wry",
        "colab": {
          "base_uri": "https://localhost:8080/",
          "height": 265
        },
        "outputId": "7ab41b39-8e92-430d-ab8d-291aded5b3cb"
      },
      "source": [
        "from matplotlib import pyplot\n",
        "\n",
        "pyplot.plot(history.history['loss'], label='train')\n",
        "pyplot.plot(history.history['val_loss'], label='test')\n",
        "pyplot.legend()\n",
        "pyplot.show()"
      ],
      "execution_count": null,
      "outputs": [
        {
          "output_type": "display_data",
          "data": {
            "image/png": "[encoded data removed]",
            "text/plain": [
              "<Figure size 432x288 with 1 Axes>"
            ]
          },
          "metadata": {
            "needs_background": "light"
          }
        }
      ]
    },
    {
      "cell_type": "markdown",
      "metadata": {
        "id": "LvmYA01IaEdB"
      },
      "source": [
        "## Model Predictions"
      ]
    },
    {
      "cell_type": "code",
      "metadata": {
        "id": "CaHjsvNLaD5I",
        "colab": {
          "base_uri": "https://localhost:8080/"
        },
        "outputId": "66587058-4b6f-4607-e7b3-449d3c0cf3ea"
      },
      "source": [
        "trainPred = model.predict([x_train[:,:30,:],x_train[:,30:31,:]])\n",
        "testPred = model.predict([x_valid[:,:30,:],x_valid[:,30:31,:]])\n",
        "print(testPred.shape)\n",
        "print(trainPred.shape)"
      ],
      "execution_count": null,
      "outputs": [
        {
          "output_type": "stream",
          "name": "stdout",
          "text": [
            "(240, 1)\n",
            "(263, 1)\n",
            "(2, 1)\n"
          ]
        }
      ]
    },
    {
      "cell_type": "code",
      "metadata": {
        "id": "eAQQknmh8PQA",
        "colab": {
          "base_uri": "https://localhost:8080/"
        },
        "outputId": "e08a67a7-8823-4da4-d3d9-fca6322c7208"
      },
      "source": [
        "#Reverting data back to 2D from 3D\n",
        "x_train_t = x_train.reshape(-1, x_train.shape[2])\n",
        "x_valid_t = x_valid.reshape(-1, x_valid.shape[2])\n",
        "\n",
        "print(x_train_t.shape)\n",
        "print(trainPred.shape)\n",
        "print(x_valid_t.shape)\n",
        "print(testPred.shape)"
      ],
      "execution_count": null,
      "outputs": [
        {
          "output_type": "stream",
          "name": "stdout",
          "text": [
            "(8153, 10)\n",
            "(263, 1)\n",
            "(7440, 10)\n",
            "(240, 1)\n"
          ]
        }
      ]
    },
    {
      "cell_type": "code",
      "metadata": {
        "id": "3VcTUMCr9rl2"
      },
      "source": [
        "# invert scaling for forecasted values \n",
        "\n",
        "inv_testPred = scaler_l.inverse_transform(testPred)\n",
        "print(inv_testPred)\n",
        "\n",
        "# invert scaling for actual values\n",
        "\n",
        "inv_y_valid = scaler_l.inverse_transform(y_valid)\n",
        "print(inv_y_valid)\n"
      ],
      "execution_count": null,
      "outputs": []
    },
    {
      "cell_type": "code",
      "metadata": {
        "id": "oNZOX9p8Btxw",
        "colab": {
          "base_uri": "https://localhost:8080/"
        },
        "outputId": "452d7783-3ca9-450c-980c-c0e13a9bb526"
      },
      "source": [
        "# calculate RMSE\n",
        "from sklearn.metrics import mean_squared_error\n",
        "from math import sqrt\n",
        "\n",
        "rmse = sqrt(mean_squared_error(inv_y_valid, inv_testPred))\n",
        "print('Test RMSE: %.3f' % rmse)"
      ],
      "execution_count": null,
      "outputs": [
        {
          "output_type": "stream",
          "name": "stdout",
          "text": [
            "Test RMSE: 818216.643\n"
          ]
        }
      ]
    },
    {
      "cell_type": "code",
      "metadata": {
        "id": "23_bcO2qIpdn",
        "colab": {
          "base_uri": "https://localhost:8080/"
        },
        "outputId": "b4c99055-242b-4589-92c6-2dea3ec9c425"
      },
      "source": [
        "# calculate Normalized RMSE\n",
        "y_max = y_valid.max()\n",
        "y_min = y_valid.min()\n",
        "nrmse = rmse /(inv_y_valid.mean()) \n",
        "print('Test NRMSE:', nrmse)"
      ],
      "execution_count": null,
      "outputs": [
        {
          "output_type": "stream",
          "name": "stdout",
          "text": [
            "Test NRMSE: 0.07439222975414471\n"
          ]
        }
      ]
    },
    {
      "cell_type": "code",
      "metadata": {
        "id": "XxRVfXyjeHMz",
        "colab": {
          "base_uri": "https://localhost:8080/"
        },
        "outputId": "ca39e5c4-b528-4dbf-edc5-ada07e26135c"
      },
      "source": [
        "# calculate R-square\n",
        "from sklearn.metrics import r2_score\n",
        "from math import sqrt\n",
        "\n",
        "r_sq = r2_score(inv_y_valid, inv_testPred)\n",
        "print('Test R_Square: %.3f' % r_sq)"
      ],
      "execution_count": null,
      "outputs": [
        {
          "output_type": "stream",
          "name": "stdout",
          "text": [
            "Test R_Square: 0.940\n"
          ]
        }
      ]
    },
    {
      "cell_type": "code",
      "metadata": {
        "id": "e7NOnGZXOvRj",
        "colab": {
          "base_uri": "https://localhost:8080/",
          "height": 365
        },
        "outputId": "b220e3ac-b78e-4402-9b60-cea1d47c5523"
      },
      "source": [
        "#1 year's plot\n",
        "import numpy as np\n",
        "import matplotlib.pyplot as plt\n",
        "X = np.arange(len(testPred))\n",
        "fig = plt.figure()\n",
        "ax = fig.add_axes([0,0,1,1])\n",
        "ax.bar(X + 0.00, inv_y_valid.flatten(), color = 'b', width = 0.5)\n",
        "ax.bar(X + 0.5, inv_testPred.flatten(), color = 'g', width = 0.5)"
      ],
      "execution_count": null,
      "outputs": [
        {
          "output_type": "execute_result",
          "data": {
            "text/plain": [
              "<BarContainer object of 17 artists>"
            ]
          },
          "metadata": {
            "tags": []
          },
          "execution_count": 34
        },
        {
          "output_type": "display_data",
          "data": {
            "image/png": "[encoded data removed]",
            "text/plain": [
              "<Figure size 432x288 with 1 Axes>"
            ]
          },
          "metadata": {
            "tags": [],
            "needs_background": "light"
          }
        }
      ]
    },
    {
      "cell_type": "code",
      "metadata": {
        "id": "UP-MikW6RF9h",
        "colab": {
          "base_uri": "https://localhost:8080/"
        },
        "outputId": "c9691ff6-4b6b-480b-c70c-4ce740c62cda"
      },
      "source": [
        "len(inv_testPred)"
      ],
      "execution_count": null,
      "outputs": [
        {
          "output_type": "execute_result",
          "data": {
            "text/plain": [
              "17"
            ]
          },
          "metadata": {
            "tags": []
          },
          "execution_count": 35
        }
      ]
    },
    {
      "cell_type": "code",
      "metadata": {
        "id": "mdq_2QDSal-d",
        "colab": {
          "base_uri": "https://localhost:8080/",
          "height": 279
        },
        "outputId": "42b0e668-15e0-4a03-8afa-c52a1250da5f"
      },
      "source": [
        "fig, ax = plt.subplots()\n",
        "ax.scatter(y_train,trainPred)\n",
        "ax.plot([y_train.min(), y_train.max()], [y_train.min(), y_train.max()], 'k--', lw=4)\n",
        "ax.set_xlabel('observed')\n",
        "ax.set_ylabel('predicted')\n",
        "plt.show()"
      ],
      "execution_count": null,
      "outputs": [
        {
          "output_type": "display_data",
          "data": {
            "image/png": "[encoded data removed]",
            "text/plain": [
              "<Figure size 432x288 with 1 Axes>"
            ]
          },
          "metadata": {
            "tags": [],
            "needs_background": "light"
          }
        }
      ]
    },
    {
      "cell_type": "code",
      "metadata": {
        "id": "gixcJfYHgvyP",
        "colab": {
          "base_uri": "https://localhost:8080/",
          "height": 279
        },
        "outputId": "0e5efe56-4f11-4c14-eec8-10932ee0f6ac"
      },
      "source": [
        "fig, ax = plt.subplots()\n",
        "ax.scatter(y_valid,testPred) #[:,:,6]\n",
        "ax.plot([y_valid.min(), y_valid.max()], [y_valid.min(), y_valid.max()], 'k--', lw=4)\n",
        "ax.set_xlabel('observed')\n",
        "ax.set_ylabel('predicted')\n",
        "#plt.savefig('test_prediction.png',bbox_inches='tight',dpi=1200)\n",
        "plt.show()"
      ],
      "execution_count": null,
      "outputs": [
        {
          "output_type": "display_data",
          "data": {
            "image/png": "[encoded data removed]",
            "text/plain": [
              "<Figure size 432x288 with 1 Axes>"
            ]
          },
          "metadata": {
            "tags": [],
            "needs_background": "light"
          }
        }
      ]
    },
    {
      "cell_type": "code",
      "metadata": {
        "id": "BSnL1kvcg78p"
      },
      "source": [
        "from matplotlib import pyplot\n",
        "\n",
        "pyplot.plot(inv_testPred, label='predictions')\n",
        "pyplot.plot(inv_y_valid, label='observation')\n",
        "pyplot.show()"
      ],
      "execution_count": null,
      "outputs": []
    }
  ]
}