{
 "cells": [
  {
   "cell_type": "markdown",
   "metadata": {
    "id": "rSkGCT8lwmj6"
   },
   "source": [
    "## Polar Sea Ice Prediction\n",
    "Code for Ensemble LSTM model"
   ]
  },
  {
   "cell_type": "markdown",
   "metadata": {
    "id": "FTPWxOK4-8TN"
   },
   "source": [
    "## Initial Setup"
   ]
  },
  {
   "cell_type": "code",
   "execution_count": 1,
   "metadata": {
    "id": "JV-0_sSz-4X3"
   },
   "outputs": [],
   "source": [
    "import os\n",
    "import math\n",
    "import glob\n",
    "import numpy as np\n",
    "import pandas as pd\n",
    "import matplotlib.pyplot as plt\n",
    "from tensorflow.keras.models import Sequential\n",
    "from tensorflow.keras.optimizers import Adam\n",
    "from tensorflow.keras.layers import Dense, Dropout\n",
    "from tensorflow.keras.layers import LSTM,TimeDistributed\n",
    "from sklearn.preprocessing import MinMaxScaler, StandardScaler\n",
    "from sklearn.metrics import mean_squared_error\n",
    "from sklearn.model_selection import train_test_split\n",
    "from tensorflow.keras.callbacks import EarlyStopping, ModelCheckpoint\n",
    "\n",
    "from attention import Attention"
   ]
  },
  {
   "cell_type": "markdown",
   "metadata": {},
   "source": [
    "'wind_10m', 'specific_humidity', 'LW_down', 'SW_down', 'rainfall', 'snowfall', 'sosaline', 'sst', 't2m', 'surface_pressure','sea_ice_extent'"
   ]
  },
  {
   "cell_type": "code",
   "execution_count": 2,
   "metadata": {
    "id": "4W3jMjPB_BcK"
   },
   "outputs": [],
   "source": [
    "daily_data = np.load('../data/dailyt30_features.npy',allow_pickle=True)\n",
    "monthly_data = np.load('../data/monthly_features.npy',allow_pickle=True)\n",
    "daily_target = np.load('../data/dailyt30_target.npy',allow_pickle=True)\n",
    "monthly_target = np.load('../data/monthly_target.npy',allow_pickle=True)"
   ]
  },
  {
   "cell_type": "code",
   "execution_count": 3,
   "metadata": {
    "colab": {
     "base_uri": "https://localhost:8080/"
    },
    "id": "WHFVsLDMiyad",
    "outputId": "c4a63e42-32b4-4e28-a96f-492e6cd4cead"
   },
   "outputs": [
    {
     "name": "stdout",
     "output_type": "stream",
     "text": [
      "(480, 30, 11)\n",
      "(480, 1, 11)\n",
      "(480,)\n"
     ]
    }
   ],
   "source": [
    "print(daily_data.shape)\n",
    "print(monthly_data.shape)\n",
    "print(monthly_target.shape)"
   ]
  },
  {
   "cell_type": "code",
   "execution_count": 4,
   "metadata": {
    "id": "6fKBLsRihdtW"
   },
   "outputs": [],
   "source": [
    "#Removing data after 2020 for SIO Review Paper submission\n",
    "# daily_data = daily_data[:-7,:,:]\n",
    "# monthly_data = monthly_data[:-7,:,:]\n",
    "# monthly_target = monthly_target[:-7]\n",
    "\n",
    "# print(daily_data.shape)\n",
    "# print(monthly_data.shape)\n",
    "# print(monthly_target.shape)"
   ]
  },
  {
   "cell_type": "code",
   "execution_count": 5,
   "metadata": {
    "colab": {
     "base_uri": "https://localhost:8080/"
    },
    "id": "lz8HXwWmYwkc",
    "outputId": "63a34d58-db37-4527-d591-77db14a2bf50"
   },
   "outputs": [
    {
     "name": "stdout",
     "output_type": "stream",
     "text": [
      "(480, 31, 11)\n"
     ]
    }
   ],
   "source": [
    "#Concatenate datasets\n",
    "data = np.concatenate((daily_data, monthly_data), axis=1)\n",
    "\n",
    "print(data.shape)"
   ]
  },
  {
   "cell_type": "code",
   "execution_count": 6,
   "metadata": {
    "colab": {
     "base_uri": "https://localhost:8080/"
    },
    "id": "-Dk0huLdm65o",
    "outputId": "727cd3fc-5c37-4980-d9af-c9185c8df3ee"
   },
   "outputs": [
    {
     "name": "stdout",
     "output_type": "stream",
     "text": [
      "(479, 31, 11)\n",
      "(479,)\n"
     ]
    }
   ],
   "source": [
    "#Adding a lag to monthly targets\n",
    "lag = 1\n",
    "data = data[:-lag,:,:]\n",
    "monthly_target = monthly_target[lag:]\n",
    "\n",
    "print(data.shape)\n",
    "print(monthly_target.shape)"
   ]
  },
  {
   "cell_type": "markdown",
   "metadata": {
    "id": "lWyDrrpAQ74Q"
   },
   "source": [
    "## Train Validation Features Split"
   ]
  },
  {
   "cell_type": "code",
   "execution_count": 7,
   "metadata": {
    "id": "5edkVBor8RcK"
   },
   "outputs": [
    {
     "name": "stdout",
     "output_type": "stream",
     "text": [
      "LEN_DATA=479 i.e. 39.9 years\n",
      "NUM_TRAIN=395 i.e. 32.9 years\n",
      "NUM_VALID=84 i.e. 7.0 years\n"
     ]
    }
   ],
   "source": [
    "# Sequential split train:val data in 80:20 sequentially \n",
    "\n",
    "LEN_DATA = len(data) #total number of pixels\n",
    "\n",
    "# NUM_TRAIN = LEN_DATA - (24+6) #reserve last 30 months for testing \n",
    "# NUM_TRAIN = LEN_DATA - (12*20) #reserve last 20 years for testing \n",
    "test_years = 7\n",
    "NUM_TRAIN = LEN_DATA - (12*test_years) #reserve last 20 years for testing \n",
    "NUM_VALID = LEN_DATA - NUM_TRAIN\n",
    "\n",
    "print(f'{LEN_DATA=}', f'i.e. {LEN_DATA / 12:.1f} years')\n",
    "print(f'{NUM_TRAIN=}', f'i.e. {NUM_TRAIN / 12:.1f} years')\n",
    "print(f'{NUM_VALID=}', f'i.e. {NUM_VALID / 12:.1f} years')\n",
    "\n",
    "x_train = data[:NUM_TRAIN]\n",
    "x_valid = data[NUM_TRAIN:]\n",
    "\n",
    "#split features and labels\n",
    "y_train=monthly_target[:NUM_TRAIN] #target is last column i-e sea-ice\n",
    "y_valid=monthly_target[NUM_TRAIN:] #target is last column i-e sea-ice"
   ]
  },
  {
   "cell_type": "code",
   "execution_count": 8,
   "metadata": {
    "id": "Nw9bd9HS4vdM"
   },
   "outputs": [
    {
     "name": "stdout",
     "output_type": "stream",
     "text": [
      "x_train.shape=(395, 31, 11)\n",
      "y_train.shape=(395,)\n",
      "x_valid.shape=(84, 31, 11)\n",
      "y_valid.shape=(84,)\n"
     ]
    }
   ],
   "source": [
    "print(f'{x_train.shape=}')\n",
    "print(f'{y_train.shape=}')\n",
    "print(f'{x_valid.shape=}')\n",
    "print(f'{y_valid.shape=}')"
   ]
  },
  {
   "cell_type": "markdown",
   "metadata": {
    "id": "-TOp3WLtJ6xJ"
   },
   "source": [
    "## Normalization\n"
   ]
  },
  {
   "cell_type": "code",
   "execution_count": 9,
   "metadata": {
    "id": "X9nc-dTGJ8qr"
   },
   "outputs": [],
   "source": [
    "# normalize the features\n",
    "scaler_f = StandardScaler()\n",
    "x_train = scaler_f.fit_transform(x_train.reshape(-1,x_train.shape[2])) #reshaping to 2d for standard scaling\n",
    "x_valid = scaler_f.transform(x_valid.reshape(-1,x_valid.shape[2])) #reshaping to 2d for standard scaling\n",
    "\n",
    "scaler_l = StandardScaler()\n",
    "y_train = scaler_l.fit_transform(y_train.reshape(-1,1)) #reshaping to 2d for standard scaling\n",
    "y_valid = scaler_l.transform(y_valid.reshape(-1,1)) #reshaping to 2d for standard scaling"
   ]
  },
  {
   "cell_type": "code",
   "execution_count": 10,
   "metadata": {
    "id": "4Mdm52jfEx0X"
   },
   "outputs": [
    {
     "name": "stdout",
     "output_type": "stream",
     "text": [
      "x_train.shape=(12245, 11)\n",
      "y_train.shape=(395, 1)\n",
      "x_valid.shape=(2604, 11)\n",
      "y_valid.shape=(84, 1)\n"
     ]
    }
   ],
   "source": [
    "#All data will be in 2D after Standard Scaling\n",
    "print(f'{x_train.shape=}')\n",
    "print(f'{y_train.shape=}')\n",
    "print(f'{x_valid.shape=}')\n",
    "print(f'{y_valid.shape=}')"
   ]
  },
  {
   "cell_type": "code",
   "execution_count": 11,
   "metadata": {
    "id": "KfueKrNZFDpH"
   },
   "outputs": [],
   "source": [
    "# convert an array of values into a dataset matrix\n",
    "def reshape_features(dataset, timesteps=1):\n",
    "    X = dataset.reshape((int(dataset.shape[0]/timesteps)), timesteps, dataset.shape[1])\n",
    "    print(f'Converted from shape {dataset.shape} to shape {X.shape}')\n",
    "    return X"
   ]
  },
  {
   "cell_type": "code",
   "execution_count": 12,
   "metadata": {
    "colab": {
     "base_uri": "https://localhost:8080/"
    },
    "id": "4h6m4o2Oa-du",
    "outputId": "f240cf7e-f6c3-4d66-9d58-cf65d1ecfadd"
   },
   "outputs": [
    {
     "name": "stdout",
     "output_type": "stream",
     "text": [
      "Converted from shape (12245, 11) to shape (395, 31, 11)\n",
      "Converted from shape (2604, 11) to shape (84, 31, 11)\n"
     ]
    }
   ],
   "source": [
    "#Reshaping data to 3D for modeling\n",
    "timesteps = 31\n",
    "x_train = reshape_features(x_train, timesteps) # reshaping to 3d for model\n",
    "x_valid = reshape_features(x_valid, timesteps) # reshaping to 3d for model"
   ]
  },
  {
   "cell_type": "code",
   "execution_count": 13,
   "metadata": {
    "id": "3fZ8W9HUYV0f"
   },
   "outputs": [
    {
     "name": "stdout",
     "output_type": "stream",
     "text": [
      "x_train.shape=(395, 31, 11)\n",
      "y_train.shape=(395, 1)\n",
      "x_valid.shape=(84, 31, 11)\n",
      "y_valid.shape=(84, 1)\n"
     ]
    }
   ],
   "source": [
    "print(f'{x_train.shape=}')\n",
    "print(f'{y_train.shape=}')\n",
    "print(f'{x_valid.shape=}')\n",
    "print(f'{y_valid.shape=}')"
   ]
  },
  {
   "cell_type": "markdown",
   "metadata": {
    "id": "HRaNlUDXr7Qt"
   },
   "source": [
    "## LSTM Network"
   ]
  },
  {
   "cell_type": "code",
   "execution_count": 14,
   "metadata": {
    "id": "os6HpsBNcHw9"
   },
   "outputs": [],
   "source": [
    "from tensorflow.keras.models import Model\n",
    "from tensorflow.keras import Input\n",
    "from tensorflow.keras.layers import concatenate, Permute, Reshape\n",
    "from tensorflow.keras.layers import Dense, Lambda, Dot, Activation, Concatenate, Flatten\n",
    "from tensorflow.keras.layers import Layer"
   ]
  },
  {
   "cell_type": "code",
   "execution_count": 15,
   "metadata": {
    "id": "M7bzSt8yfNWq"
   },
   "outputs": [],
   "source": [
    "# Customized implementation of Attention layer to accomodate multiple calls to attention\n",
    "# Note that this appears to be the same as the implementation in the 'attention' package. Not clear why this exists.\n",
    "class CustomAttention(Layer):\n",
    "\n",
    "    def __init__(self, units=128, **kwargs):\n",
    "        self.units = units\n",
    "        super().__init__(**kwargs)\n",
    "\n",
    "    def __call__(self, inputs):\n",
    "        \"\"\"\n",
    "        Many-to-one attention mechanism for Keras.\n",
    "        @param inputs: 3D tensor with shape (batch_size, time_steps, input_dim).\n",
    "        @return: 2D tensor with shape (batch_size, 128)\n",
    "        @author: felixhao28, philipperemy.\n",
    "        \"\"\"\n",
    "        hidden_states = inputs\n",
    "        hidden_size = int(hidden_states.shape[2])\n",
    "        # Inside dense layer\n",
    "        #              hidden_states            dot               W            =>           score_first_part\n",
    "        # (batch_size, time_steps, hidden_size) dot (hidden_size, hidden_size) => (batch_size, time_steps, hidden_size)\n",
    "        # W is the trainable weight matrix of attention Luong's multiplicative style score\n",
    "        score_first_part = Dense(hidden_size, use_bias=False)(hidden_states)\n",
    "        #            score_first_part           dot        last_hidden_state     => attention_weights\n",
    "        # (batch_size, time_steps, hidden_size) dot   (batch_size, hidden_size)  => (batch_size, time_steps)\n",
    "        h_t = Lambda(lambda x: x[:, -1, :], output_shape=(hidden_size,))(hidden_states)\n",
    "        score = Dot(axes=[1, 2])([h_t, score_first_part])\n",
    "        attention_weights = Activation('softmax')(score)\n",
    "        # (batch_size, time_steps, hidden_size) dot (batch_size, time_steps) => (batch_size, hidden_size)\n",
    "        context_vector = Dot(axes=[1, 1])([hidden_states, attention_weights])\n",
    "        pre_activation = Concatenate()([context_vector, h_t])\n",
    "        attention_vector = Dense(self.units, use_bias=False, activation='tanh')(pre_activation)\n",
    "        return attention_vector\n",
    "\n",
    "    def get_config(self):\n",
    "        return {'units': self.units}\n",
    "\n",
    "    @classmethod\n",
    "    def from_config(cls, config):\n",
    "        return cls(**config)"
   ]
  },
  {
   "cell_type": "code",
   "execution_count": 16,
   "metadata": {
    "colab": {
     "base_uri": "https://localhost:8080/"
    },
    "id": "9_f7Qd0LSYib",
    "outputId": "79081fd2-d41f-484e-81e2-4f5c449966e2"
   },
   "outputs": [
    {
     "name": "stdout",
     "output_type": "stream",
     "text": [
      "Model: \"EALSTM\"\n",
      "__________________________________________________________________________________________________\n",
      " Layer (type)                   Output Shape         Param #     Connected to                     \n",
      "==================================================================================================\n",
      " input_1 (InputLayer)           [(None, 30, 11)]     0           []                               \n",
      "                                                                                                  \n",
      " permute (Permute)              (None, 11, 30)       0           ['input_1[0][0]']                \n",
      "                                                                                                  \n",
      " lstm (LSTM)                    (None, 11, 64)       24320       ['permute[0][0]']                \n",
      "                                                                                                  \n",
      " dropout (Dropout)              (None, 11, 64)       0           ['lstm[0][0]']                   \n",
      "                                                                                                  \n",
      " lstm_1 (LSTM)                  (None, 11, 32)       12416       ['dropout[0][0]']                \n",
      "                                                                                                  \n",
      " lambda (Lambda)                (None, 32)           0           ['lstm_1[0][0]']                 \n",
      "                                                                                                  \n",
      " dense (Dense)                  (None, 11, 32)       1024        ['lstm_1[0][0]']                 \n",
      "                                                                                                  \n",
      " input_2 (InputLayer)           [(None, 1, 11)]      0           []                               \n",
      "                                                                                                  \n",
      " dot (Dot)                      (None, 11)           0           ['lambda[0][0]',                 \n",
      "                                                                  'dense[0][0]']                  \n",
      "                                                                                                  \n",
      " permute_1 (Permute)            (None, 11, 1)        0           ['input_2[0][0]']                \n",
      "                                                                                                  \n",
      " activation (Activation)        (None, 11)           0           ['dot[0][0]']                    \n",
      "                                                                                                  \n",
      " lstm_2 (LSTM)                  (None, 11, 64)       16896       ['permute_1[0][0]']              \n",
      "                                                                                                  \n",
      " dot_1 (Dot)                    (None, 32)           0           ['lstm_1[0][0]',                 \n",
      "                                                                  'activation[0][0]']             \n",
      "                                                                                                  \n",
      " dropout_1 (Dropout)            (None, 11, 64)       0           ['lstm_2[0][0]']                 \n",
      "                                                                                                  \n",
      " concatenate (Concatenate)      (None, 64)           0           ['dot_1[0][0]',                  \n",
      "                                                                  'lambda[0][0]']                 \n",
      "                                                                                                  \n",
      " lstm_3 (LSTM)                  (None, 11, 32)       12416       ['dropout_1[0][0]']              \n",
      "                                                                                                  \n",
      " dense_1 (Dense)                (None, 128)          8192        ['concatenate[0][0]']            \n",
      "                                                                                                  \n",
      " attention (Attention)          (None, 128)          9216        ['lstm_3[0][0]']                 \n",
      "                                                                                                  \n",
      " dense_2 (Dense)                (None, 1)            129         ['dense_1[0][0]']                \n",
      "                                                                                                  \n",
      " dense_3 (Dense)                (None, 1)            129         ['attention[0][0]']              \n",
      "                                                                                                  \n",
      " concatenate_1 (Concatenate)    (None, 2)            0           ['dense_2[0][0]',                \n",
      "                                                                  'dense_3[0][0]']                \n",
      "                                                                                                  \n",
      " dense_4 (Dense)                (None, 1)            3           ['concatenate_1[0][0]']          \n",
      "                                                                                                  \n",
      "==================================================================================================\n",
      "Total params: 84,741\n",
      "Trainable params: 84,741\n",
      "Non-trainable params: 0\n",
      "__________________________________________________________________________________________________\n"
     ]
    }
   ],
   "source": [
    "model1_input= Input(shape=(30,11)) #replace (30,10) with (30,11) for 11 features \n",
    "model2_input= Input(shape=(1,11)) #replace (1,10) with (1,11) for 11 features\n",
    "\n",
    "model1 = Permute((2,1), input_shape=(30,11))(model1_input)\n",
    "model1 = LSTM(64, return_sequences=True)(model1)\n",
    "model1 = Dropout(0.2)(model1)\n",
    "model1 = LSTM(32, return_sequences=True)(model1)\n",
    "model1 = CustomAttention()(model1)\n",
    "model1 = Dense(1)(model1)\n",
    "\n",
    "model2 = Permute((2,1), input_shape=(1,11))(model2_input)\n",
    "model2 = LSTM(64, return_sequences=True)(model2)\n",
    "model2 = Dropout(0.2)(model2)\n",
    "model2 = LSTM(32, return_sequences=True)(model2)\n",
    "model2 = Attention()(model2)\n",
    "model2 = Dense(1)(model2)\n",
    "\n",
    "ensemble = concatenate([model1, model2])\n",
    "merged_model = Dense(1)(ensemble)\n",
    "model = Model(inputs=[model1_input,model2_input], outputs=merged_model, name='EALSTM')\n",
    "model.summary()"
   ]
  },
  {
   "cell_type": "markdown",
   "metadata": {
    "id": "qrWXbk9DsTJ1"
   },
   "source": [
    "## Compiling the Network and Fitting Model"
   ]
  },
  {
   "cell_type": "code",
   "execution_count": 17,
   "metadata": {
    "id": "JAo2H2JssXjN"
   },
   "outputs": [],
   "source": [
    "#Compiling the network\n",
    "model.compile(loss='mean_squared_error', optimizer='adam')\n",
    "checkpoint_path='./testmodel.h5'\n",
    "keras_callbacks   = [\n",
    "      EarlyStopping(monitor='val_loss', patience=60, mode='min', min_delta=0.001),\n",
    "      ModelCheckpoint(checkpoint_path, monitor='val_loss', save_best_only=True, mode='min')\n",
    "]"
   ]
  },
  {
   "cell_type": "code",
   "execution_count": 18,
   "metadata": {
    "id": "vxresQUSTYgq"
   },
   "outputs": [
    {
     "name": "stderr",
     "output_type": "stream",
     "text": [
      "2022-02-20 18:42:09.073347: W tensorflow/core/platform/profile_utils/cpu_utils.cc:128] Failed to get CPU frequency: 0 Hz\n",
      "2022-02-20 18:42:10.714958: W tensorflow/core/grappler/costs/op_level_cost_estimator.cc:689] Error in PredictCost() for the op: op: \"Softmax\" attr { key: \"T\" value { type: DT_FLOAT } } inputs { dtype: DT_FLOAT shape { unknown_rank: true } } device { type: \"CPU\" model: \"0\" num_cores: 8 environment { key: \"cpu_instruction_set\" value: \"ARM NEON\" } environment { key: \"eigen\" value: \"3.4.90\" } l1_cache_size: 16384 l2_cache_size: 524288 l3_cache_size: 524288 memory_size: 268435456 } outputs { dtype: DT_FLOAT shape { unknown_rank: true } }\n",
      "2022-02-20 18:42:10.715031: W tensorflow/core/grappler/costs/op_level_cost_estimator.cc:689] Error in PredictCost() for the op: op: \"Softmax\" attr { key: \"T\" value { type: DT_FLOAT } } inputs { dtype: DT_FLOAT shape { unknown_rank: true } } device { type: \"CPU\" model: \"0\" num_cores: 8 environment { key: \"cpu_instruction_set\" value: \"ARM NEON\" } environment { key: \"eigen\" value: \"3.4.90\" } l1_cache_size: 16384 l2_cache_size: 524288 l3_cache_size: 524288 memory_size: 268435456 } outputs { dtype: DT_FLOAT shape { unknown_rank: true } }\n",
      "2022-02-20 18:42:11.534554: W tensorflow/core/grappler/costs/op_level_cost_estimator.cc:689] Error in PredictCost() for the op: op: \"Softmax\" attr { key: \"T\" value { type: DT_FLOAT } } inputs { dtype: DT_FLOAT shape { unknown_rank: true } } device { type: \"CPU\" model: \"0\" num_cores: 8 environment { key: \"cpu_instruction_set\" value: \"ARM NEON\" } environment { key: \"eigen\" value: \"3.4.90\" } l1_cache_size: 16384 l2_cache_size: 524288 l3_cache_size: 524288 memory_size: 268435456 } outputs { dtype: DT_FLOAT shape { unknown_rank: true } }\n",
      "2022-02-20 18:42:11.534597: W tensorflow/core/grappler/costs/op_level_cost_estimator.cc:689] Error in PredictCost() for the op: op: \"Softmax\" attr { key: \"T\" value { type: DT_FLOAT } } inputs { dtype: DT_FLOAT shape { unknown_rank: true } } device { type: \"CPU\" model: \"0\" num_cores: 8 environment { key: \"cpu_instruction_set\" value: \"ARM NEON\" } environment { key: \"eigen\" value: \"3.4.90\" } l1_cache_size: 16384 l2_cache_size: 524288 l3_cache_size: 524288 memory_size: 268435456 } outputs { dtype: DT_FLOAT shape { unknown_rank: true } }\n"
     ]
    }
   ],
   "source": [
    "history=model.fit(\n",
    "    [x_train[:,:30,:],x_train[:,30:31,:]],\n",
    "    y_train,\n",
    "    epochs=500,\n",
    "    batch_size=64,\n",
    "    verbose=0,\n",
    "    validation_split=0.3,\n",
    "    shuffle=True,\n",
    "    callbacks=keras_callbacks)"
   ]
  },
  {
   "cell_type": "markdown",
   "metadata": {
    "id": "-6q16qTmaZ8N"
   },
   "source": [
    "## Plotting"
   ]
  },
  {
   "cell_type": "code",
   "execution_count": 19,
   "metadata": {
    "colab": {
     "base_uri": "https://localhost:8080/",
     "height": 265
    },
    "id": "5P2TOQqU7Wry",
    "outputId": "7ab41b39-8e92-430d-ab8d-291aded5b3cb"
   },
   "outputs": [
    {
     "data": {
      "image/png": "[encoded data removed]",
      "text/plain": [
       "<Figure size 432x288 with 1 Axes>"
      ]
     },
     "metadata": {
      "needs_background": "light"
     },
     "output_type": "display_data"
    }
   ],
   "source": [
    "from matplotlib import pyplot\n",
    "\n",
    "pyplot.plot(history.history['loss'], label='train')\n",
    "pyplot.plot(history.history['val_loss'], label='test')\n",
    "pyplot.legend()\n",
    "pyplot.show()"
   ]
  },
  {
   "cell_type": "markdown",
   "metadata": {
    "id": "LvmYA01IaEdB"
   },
   "source": [
    "## Model Predictions"
   ]
  },
  {
   "cell_type": "code",
   "execution_count": 20,
   "metadata": {
    "colab": {
     "base_uri": "https://localhost:8080/"
    },
    "id": "CaHjsvNLaD5I",
    "outputId": "66587058-4b6f-4607-e7b3-449d3c0cf3ea"
   },
   "outputs": [
    {
     "name": "stdout",
     "output_type": "stream",
     "text": [
      "(84, 1)\n",
      "(395, 1)\n"
     ]
    },
    {
     "name": "stderr",
     "output_type": "stream",
     "text": [
      "2022-02-20 18:42:17.982457: W tensorflow/core/grappler/costs/op_level_cost_estimator.cc:689] Error in PredictCost() for the op: op: \"Softmax\" attr { key: \"T\" value { type: DT_FLOAT } } inputs { dtype: DT_FLOAT shape { unknown_rank: true } } device { type: \"CPU\" model: \"0\" num_cores: 8 environment { key: \"cpu_instruction_set\" value: \"ARM NEON\" } environment { key: \"eigen\" value: \"3.4.90\" } l1_cache_size: 16384 l2_cache_size: 524288 l3_cache_size: 524288 memory_size: 268435456 } outputs { dtype: DT_FLOAT shape { unknown_rank: true } }\n",
      "2022-02-20 18:42:17.982497: W tensorflow/core/grappler/costs/op_level_cost_estimator.cc:689] Error in PredictCost() for the op: op: \"Softmax\" attr { key: \"T\" value { type: DT_FLOAT } } inputs { dtype: DT_FLOAT shape { unknown_rank: true } } device { type: \"CPU\" model: \"0\" num_cores: 8 environment { key: \"cpu_instruction_set\" value: \"ARM NEON\" } environment { key: \"eigen\" value: \"3.4.90\" } l1_cache_size: 16384 l2_cache_size: 524288 l3_cache_size: 524288 memory_size: 268435456 } outputs { dtype: DT_FLOAT shape { unknown_rank: true } }\n"
     ]
    }
   ],
   "source": [
    "trainPred = model.predict([x_train[:,:30,:],x_train[:,30:31,:]])\n",
    "testPred = model.predict([x_valid[:,:30,:],x_valid[:,30:31,:]])\n",
    "print(testPred.shape)\n",
    "print(trainPred.shape)"
   ]
  },
  {
   "cell_type": "code",
   "execution_count": 21,
   "metadata": {
    "colab": {
     "base_uri": "https://localhost:8080/"
    },
    "id": "eAQQknmh8PQA",
    "outputId": "e08a67a7-8823-4da4-d3d9-fca6322c7208"
   },
   "outputs": [
    {
     "name": "stdout",
     "output_type": "stream",
     "text": [
      "(12245, 11)\n",
      "(395, 1)\n",
      "(2604, 11)\n",
      "(84, 1)\n"
     ]
    }
   ],
   "source": [
    "#Reverting data back to 2D from 3D\n",
    "x_train_t = x_train.reshape(-1, x_train.shape[2])\n",
    "x_valid_t = x_valid.reshape(-1, x_valid.shape[2])\n",
    "\n",
    "print(x_train_t.shape)\n",
    "print(trainPred.shape)\n",
    "print(x_valid_t.shape)\n",
    "print(testPred.shape)"
   ]
  },
  {
   "cell_type": "code",
   "execution_count": 22,
   "metadata": {
    "id": "3VcTUMCr9rl2",
    "tags": []
   },
   "outputs": [
    {
     "name": "stdout",
     "output_type": "stream",
     "text": [
      "[[14246371.]\n",
      " [14970125.]\n",
      " [14858170.]]\n",
      "[[13860823.]\n",
      " [14697697.]\n",
      " [15313867.]]\n"
     ]
    }
   ],
   "source": [
    "# invert scaling for forecasted values \n",
    "\n",
    "inv_testPred = scaler_l.inverse_transform(testPred)\n",
    "print(inv_testPred[:3])\n",
    "\n",
    "# invert scaling for actual values\n",
    "\n",
    "inv_y_valid = scaler_l.inverse_transform(y_valid)\n",
    "print(inv_y_valid[:3])\n"
   ]
  },
  {
   "cell_type": "code",
   "execution_count": 23,
   "metadata": {
    "colab": {
     "base_uri": "https://localhost:8080/"
    },
    "id": "oNZOX9p8Btxw",
    "outputId": "452d7783-3ca9-450c-980c-c0e13a9bb526"
   },
   "outputs": [
    {
     "name": "stdout",
     "output_type": "stream",
     "text": [
      "Test RMSE: 854437.009\n"
     ]
    }
   ],
   "source": [
    "# calculate RMSE\n",
    "from sklearn.metrics import mean_squared_error\n",
    "from math import sqrt\n",
    "\n",
    "rmse = sqrt(mean_squared_error(inv_y_valid, inv_testPred))\n",
    "print('Test RMSE: %.3f' % rmse)"
   ]
  },
  {
   "cell_type": "code",
   "execution_count": 24,
   "metadata": {
    "colab": {
     "base_uri": "https://localhost:8080/"
    },
    "id": "23_bcO2qIpdn",
    "outputId": "b4c99055-242b-4589-92c6-2dea3ec9c425"
   },
   "outputs": [
    {
     "name": "stdout",
     "output_type": "stream",
     "text": [
      "Test NRMSE: 0.07934580921252872\n"
     ]
    }
   ],
   "source": [
    "# calculate Normalized RMSE\n",
    "y_max = y_valid.max()\n",
    "y_min = y_valid.min()\n",
    "nrmse = rmse /(inv_y_valid.mean()) \n",
    "print('Test NRMSE:', nrmse)"
   ]
  },
  {
   "cell_type": "code",
   "execution_count": 25,
   "metadata": {
    "colab": {
     "base_uri": "https://localhost:8080/"
    },
    "id": "XxRVfXyjeHMz",
    "outputId": "ca39e5c4-b528-4dbf-edc5-ada07e26135c"
   },
   "outputs": [
    {
     "name": "stdout",
     "output_type": "stream",
     "text": [
      "Test R_Square: 0.936\n"
     ]
    }
   ],
   "source": [
    "# calculate R-square\n",
    "from sklearn.metrics import r2_score\n",
    "from math import sqrt\n",
    "\n",
    "r_sq = r2_score(inv_y_valid, inv_testPred)\n",
    "print('Test R_Square: %.3f' % r_sq)"
   ]
  },
  {
   "cell_type": "code",
   "execution_count": 26,
   "metadata": {
    "colab": {
     "base_uri": "https://localhost:8080/",
     "height": 365
    },
    "id": "e7NOnGZXOvRj",
    "outputId": "b220e3ac-b78e-4402-9b60-cea1d47c5523"
   },
   "outputs": [
    {
     "data": {
      "text/plain": [
       "<BarContainer object of 84 artists>"
      ]
     },
     "execution_count": 26,
     "metadata": {},
     "output_type": "execute_result"
    },
    {
     "data": {
      "image/png": "[encoded data removed]",
      "text/plain": [
       "<Figure size 432x288 with 1 Axes>"
      ]
     },
     "metadata": {
      "needs_background": "light"
     },
     "output_type": "display_data"
    }
   ],
   "source": [
    "#1 year's plot\n",
    "import numpy as np\n",
    "import matplotlib.pyplot as plt\n",
    "X = np.arange(len(testPred))\n",
    "fig = plt.figure()\n",
    "ax = fig.add_axes([0,0,1,1])\n",
    "ax.bar(X + 0.00, inv_y_valid.flatten(), color = 'b', width = 0.5)\n",
    "ax.bar(X + 0.5, inv_testPred.flatten(), color = 'g', width = 0.5)"
   ]
  },
  {
   "cell_type": "code",
   "execution_count": 27,
   "metadata": {
    "colab": {
     "base_uri": "https://localhost:8080/"
    },
    "id": "UP-MikW6RF9h",
    "outputId": "c9691ff6-4b6b-480b-c70c-4ce740c62cda"
   },
   "outputs": [
    {
     "data": {
      "text/plain": [
       "84"
      ]
     },
     "execution_count": 27,
     "metadata": {},
     "output_type": "execute_result"
    }
   ],
   "source": [
    "len(inv_testPred)"
   ]
  },
  {
   "cell_type": "code",
   "execution_count": 28,
   "metadata": {
    "colab": {
     "base_uri": "https://localhost:8080/",
     "height": 279
    },
    "id": "mdq_2QDSal-d",
    "outputId": "42b0e668-15e0-4a03-8afa-c52a1250da5f"
   },
   "outputs": [
    {
     "data": {
      "image/png": "[encoded data removed]",
      "text/plain": [
       "<Figure size 432x288 with 1 Axes>"
      ]
     },
     "metadata": {
      "needs_background": "light"
     },
     "output_type": "display_data"
    }
   ],
   "source": [
    "fig, ax = plt.subplots()\n",
    "ax.scatter(y_train,trainPred)\n",
    "ax.plot([y_train.min(), y_train.max()], [y_train.min(), y_train.max()], 'k--', lw=4)\n",
    "ax.set_xlabel('observed')\n",
    "ax.set_ylabel('predicted')\n",
    "plt.show()"
   ]
  },
  {
   "cell_type": "code",
   "execution_count": 29,
   "metadata": {
    "colab": {
     "base_uri": "https://localhost:8080/",
     "height": 279
    },
    "id": "gixcJfYHgvyP",
    "outputId": "0e5efe56-4f11-4c14-eec8-10932ee0f6ac"
   },
   "outputs": [
    {
     "data": {
      "image/png": "[encoded data removed]",
      "text/plain": [
       "<Figure size 432x288 with 1 Axes>"
      ]
     },
     "metadata": {
      "needs_background": "light"
     },
     "output_type": "display_data"
    }
   ],
   "source": [
    "fig, ax = plt.subplots()\n",
    "ax.scatter(y_valid,testPred) #[:,:,6]\n",
    "ax.plot([y_valid.min(), y_valid.max()], [y_valid.min(), y_valid.max()], 'k--', lw=4)\n",
    "ax.set_xlabel('observed')\n",
    "ax.set_ylabel('predicted')\n",
    "#plt.savefig('test_prediction.png',bbox_inches='tight',dpi=1200)\n",
    "plt.show()"
   ]
  },
  {
   "cell_type": "code",
   "execution_count": 30,
   "metadata": {
    "id": "BSnL1kvcg78p"
   },
   "outputs": [
    {
     "data": {
      "image/png": "[encoded data removed]",
      "text/plain": [
       "<Figure size 432x288 with 1 Axes>"
      ]
     },
     "metadata": {
      "needs_background": "light"
     },
     "output_type": "display_data"
    }
   ],
   "source": [
    "from matplotlib import pyplot\n",
    "\n",
    "pyplot.plot(inv_testPred, label='predictions')\n",
    "pyplot.plot(inv_y_valid, label='observation')\n",
    "pyplot.show()"
   ]
  }
 ],
 "metadata": {
  "accelerator": "GPU",
  "colab": {
   "collapsed_sections": [],
   "name": "Polar_Sea_Ice_Prediction_EALSTM.ipynb",
   "provenance": []
  },
  "kernelspec": {
   "display_name": "Python 3 (ipykernel)",
   "language": "python",
   "name": "python3"
  },
  "language_info": {
   "codemirror_mode": {
    "name": "ipython",
    "version": 3
   },
   "file_extension": ".py",
   "mimetype": "text/x-python",
   "name": "python",
   "nbconvert_exporter": "python",
   "pygments_lexer": "ipython3",
   "version": "3.9.7"
  }
 },
 "nbformat": 4,
 "nbformat_minor": 4
}
